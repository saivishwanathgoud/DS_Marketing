{
  "nbformat": 4,
  "nbformat_minor": 0,
  "metadata": {
    "colab": {
      "name": "Propensity_data_prep.ipynb",
      "provenance": [],
      "collapsed_sections": [],
      "authorship_tag": "ABX9TyPxi+hGlzWARBivx0971gDb",
      "include_colab_link": true
    },
    "kernelspec": {
      "name": "python3",
      "display_name": "Python 3"
    }
  },
  "cells": [
    {
      "cell_type": "markdown",
      "metadata": {
        "id": "view-in-github",
        "colab_type": "text"
      },
      "source": [
        "<a href=\"https://colab.research.google.com/github/saivishwanathgoud/DS_Marketing/blob/master/Propensity_data_prep.ipynb\" target=\"_parent\"><img src=\"https://colab.research.google.com/assets/colab-badge.svg\" alt=\"Open In Colab\"/></a>"
      ]
    },
    {
      "cell_type": "code",
      "metadata": {
        "id": "0TbPyiLKeW2L",
        "colab_type": "code",
        "colab": {
          "base_uri": "https://localhost:8080/",
          "height": 72
        },
        "outputId": "070b65ba-f7c9-4f07-8d13-aef60f1f1b6a"
      },
      "source": [
        "import pandas as pd\n",
        "import numpy as np\n",
        "import datetime \n",
        "import matplotlib.pyplot as plt\n",
        "import seaborn as sns\n",
        "\n",
        "#Label engineering\n",
        "import composeml as cp\n",
        "\n",
        "#Feature engineering\n",
        "import featuretools as ft\n",
        "\n",
        "\n",
        "plt.rcParams['figure.figsize'] = (20, 10)\n",
        "pd.set_option('float_format', '{:f}'.format)\n",
        "%matplotlib inline"
      ],
      "execution_count": 1,
      "outputs": [
        {
          "output_type": "stream",
          "text": [
            "/usr/local/lib/python3.6/dist-packages/statsmodels/tools/_testing.py:19: FutureWarning: pandas.util.testing is deprecated. Use the functions in the public API at pandas.testing instead.\n",
            "  import pandas.util.testing as tm\n"
          ],
          "name": "stderr"
        }
      ]
    },
    {
      "cell_type": "markdown",
      "metadata": {
        "id": "VxLlxbHb0JDk",
        "colab_type": "text"
      },
      "source": [
        "Although there are many datasets, for EDA I'll take 3 datasets:\n",
        "1. Transactions \n",
        "2. Items \n",
        "3. Customers"
      ]
    },
    {
      "cell_type": "code",
      "metadata": {
        "id": "YvVeVDCmecER",
        "colab_type": "code",
        "colab": {
          "base_uri": "https://localhost:8080/",
          "height": 197
        },
        "outputId": "30624963-5790-4d84-8147-f2950c0096ca"
      },
      "source": [
        "transactions = pd.read_csv('customer_transaction_data.csv', parse_dates=[0])\n",
        "transactions.head()"
      ],
      "execution_count": 2,
      "outputs": [
        {
          "output_type": "execute_result",
          "data": {
            "text/html": [
              "<div>\n",
              "<style scoped>\n",
              "    .dataframe tbody tr th:only-of-type {\n",
              "        vertical-align: middle;\n",
              "    }\n",
              "\n",
              "    .dataframe tbody tr th {\n",
              "        vertical-align: top;\n",
              "    }\n",
              "\n",
              "    .dataframe thead th {\n",
              "        text-align: right;\n",
              "    }\n",
              "</style>\n",
              "<table border=\"1\" class=\"dataframe\">\n",
              "  <thead>\n",
              "    <tr style=\"text-align: right;\">\n",
              "      <th></th>\n",
              "      <th>date</th>\n",
              "      <th>customer_id</th>\n",
              "      <th>item_id</th>\n",
              "      <th>quantity</th>\n",
              "      <th>selling_price</th>\n",
              "      <th>other_discount</th>\n",
              "      <th>coupon_discount</th>\n",
              "    </tr>\n",
              "  </thead>\n",
              "  <tbody>\n",
              "    <tr>\n",
              "      <th>0</th>\n",
              "      <td>2012-01-02</td>\n",
              "      <td>1501</td>\n",
              "      <td>26830</td>\n",
              "      <td>1</td>\n",
              "      <td>35.260000</td>\n",
              "      <td>-10.690000</td>\n",
              "      <td>0.000000</td>\n",
              "    </tr>\n",
              "    <tr>\n",
              "      <th>1</th>\n",
              "      <td>2012-01-02</td>\n",
              "      <td>1501</td>\n",
              "      <td>54253</td>\n",
              "      <td>1</td>\n",
              "      <td>53.430000</td>\n",
              "      <td>-13.890000</td>\n",
              "      <td>0.000000</td>\n",
              "    </tr>\n",
              "    <tr>\n",
              "      <th>2</th>\n",
              "      <td>2012-01-02</td>\n",
              "      <td>1501</td>\n",
              "      <td>31962</td>\n",
              "      <td>1</td>\n",
              "      <td>106.500000</td>\n",
              "      <td>-14.250000</td>\n",
              "      <td>0.000000</td>\n",
              "    </tr>\n",
              "    <tr>\n",
              "      <th>3</th>\n",
              "      <td>2012-01-02</td>\n",
              "      <td>1501</td>\n",
              "      <td>33647</td>\n",
              "      <td>1</td>\n",
              "      <td>67.320000</td>\n",
              "      <td>0.000000</td>\n",
              "      <td>0.000000</td>\n",
              "    </tr>\n",
              "    <tr>\n",
              "      <th>4</th>\n",
              "      <td>2012-01-02</td>\n",
              "      <td>1501</td>\n",
              "      <td>48199</td>\n",
              "      <td>1</td>\n",
              "      <td>71.240000</td>\n",
              "      <td>-28.140000</td>\n",
              "      <td>0.000000</td>\n",
              "    </tr>\n",
              "  </tbody>\n",
              "</table>\n",
              "</div>"
            ],
            "text/plain": [
              "        date  customer_id  ...  other_discount  coupon_discount\n",
              "0 2012-01-02         1501  ...      -10.690000         0.000000\n",
              "1 2012-01-02         1501  ...      -13.890000         0.000000\n",
              "2 2012-01-02         1501  ...      -14.250000         0.000000\n",
              "3 2012-01-02         1501  ...        0.000000         0.000000\n",
              "4 2012-01-02         1501  ...      -28.140000         0.000000\n",
              "\n",
              "[5 rows x 7 columns]"
            ]
          },
          "metadata": {
            "tags": []
          },
          "execution_count": 2
        }
      ]
    },
    {
      "cell_type": "code",
      "metadata": {
        "id": "CbcneaCufILj",
        "colab_type": "code",
        "colab": {
          "base_uri": "https://localhost:8080/",
          "height": 197
        },
        "outputId": "1d0f4c59-28fe-4de2-934f-775278d83703"
      },
      "source": [
        "#products \n",
        "items = pd.read_csv('item_data.csv')\n",
        "items.head()"
      ],
      "execution_count": 3,
      "outputs": [
        {
          "output_type": "execute_result",
          "data": {
            "text/html": [
              "<div>\n",
              "<style scoped>\n",
              "    .dataframe tbody tr th:only-of-type {\n",
              "        vertical-align: middle;\n",
              "    }\n",
              "\n",
              "    .dataframe tbody tr th {\n",
              "        vertical-align: top;\n",
              "    }\n",
              "\n",
              "    .dataframe thead th {\n",
              "        text-align: right;\n",
              "    }\n",
              "</style>\n",
              "<table border=\"1\" class=\"dataframe\">\n",
              "  <thead>\n",
              "    <tr style=\"text-align: right;\">\n",
              "      <th></th>\n",
              "      <th>item_id</th>\n",
              "      <th>brand</th>\n",
              "      <th>brand_type</th>\n",
              "      <th>category</th>\n",
              "    </tr>\n",
              "  </thead>\n",
              "  <tbody>\n",
              "    <tr>\n",
              "      <th>0</th>\n",
              "      <td>1</td>\n",
              "      <td>1</td>\n",
              "      <td>Established</td>\n",
              "      <td>Grocery</td>\n",
              "    </tr>\n",
              "    <tr>\n",
              "      <th>1</th>\n",
              "      <td>2</td>\n",
              "      <td>1</td>\n",
              "      <td>Established</td>\n",
              "      <td>Miscellaneous</td>\n",
              "    </tr>\n",
              "    <tr>\n",
              "      <th>2</th>\n",
              "      <td>3</td>\n",
              "      <td>56</td>\n",
              "      <td>Local</td>\n",
              "      <td>Bakery</td>\n",
              "    </tr>\n",
              "    <tr>\n",
              "      <th>3</th>\n",
              "      <td>4</td>\n",
              "      <td>56</td>\n",
              "      <td>Local</td>\n",
              "      <td>Grocery</td>\n",
              "    </tr>\n",
              "    <tr>\n",
              "      <th>4</th>\n",
              "      <td>5</td>\n",
              "      <td>56</td>\n",
              "      <td>Local</td>\n",
              "      <td>Grocery</td>\n",
              "    </tr>\n",
              "  </tbody>\n",
              "</table>\n",
              "</div>"
            ],
            "text/plain": [
              "   item_id  brand   brand_type       category\n",
              "0        1      1  Established        Grocery\n",
              "1        2      1  Established  Miscellaneous\n",
              "2        3     56        Local         Bakery\n",
              "3        4     56        Local        Grocery\n",
              "4        5     56        Local        Grocery"
            ]
          },
          "metadata": {
            "tags": []
          },
          "execution_count": 3
        }
      ]
    },
    {
      "cell_type": "code",
      "metadata": {
        "id": "gDfXiuwofSLi",
        "colab_type": "code",
        "colab": {
          "base_uri": "https://localhost:8080/",
          "height": 197
        },
        "outputId": "e1b1f6e4-0227-452e-847c-5c440956e637"
      },
      "source": [
        "#customers\n",
        "customers = pd.read_csv('customer_demographics.csv')\n",
        "customers.head()"
      ],
      "execution_count": 4,
      "outputs": [
        {
          "output_type": "execute_result",
          "data": {
            "text/html": [
              "<div>\n",
              "<style scoped>\n",
              "    .dataframe tbody tr th:only-of-type {\n",
              "        vertical-align: middle;\n",
              "    }\n",
              "\n",
              "    .dataframe tbody tr th {\n",
              "        vertical-align: top;\n",
              "    }\n",
              "\n",
              "    .dataframe thead th {\n",
              "        text-align: right;\n",
              "    }\n",
              "</style>\n",
              "<table border=\"1\" class=\"dataframe\">\n",
              "  <thead>\n",
              "    <tr style=\"text-align: right;\">\n",
              "      <th></th>\n",
              "      <th>customer_id</th>\n",
              "      <th>age_range</th>\n",
              "      <th>marital_status</th>\n",
              "      <th>rented</th>\n",
              "      <th>family_size</th>\n",
              "      <th>no_of_children</th>\n",
              "      <th>income_bracket</th>\n",
              "    </tr>\n",
              "  </thead>\n",
              "  <tbody>\n",
              "    <tr>\n",
              "      <th>0</th>\n",
              "      <td>1</td>\n",
              "      <td>70+</td>\n",
              "      <td>Married</td>\n",
              "      <td>0</td>\n",
              "      <td>2</td>\n",
              "      <td>NaN</td>\n",
              "      <td>4</td>\n",
              "    </tr>\n",
              "    <tr>\n",
              "      <th>1</th>\n",
              "      <td>6</td>\n",
              "      <td>46-55</td>\n",
              "      <td>Married</td>\n",
              "      <td>0</td>\n",
              "      <td>2</td>\n",
              "      <td>NaN</td>\n",
              "      <td>5</td>\n",
              "    </tr>\n",
              "    <tr>\n",
              "      <th>2</th>\n",
              "      <td>7</td>\n",
              "      <td>26-35</td>\n",
              "      <td>NaN</td>\n",
              "      <td>0</td>\n",
              "      <td>3</td>\n",
              "      <td>1</td>\n",
              "      <td>3</td>\n",
              "    </tr>\n",
              "    <tr>\n",
              "      <th>3</th>\n",
              "      <td>8</td>\n",
              "      <td>26-35</td>\n",
              "      <td>NaN</td>\n",
              "      <td>0</td>\n",
              "      <td>4</td>\n",
              "      <td>2</td>\n",
              "      <td>6</td>\n",
              "    </tr>\n",
              "    <tr>\n",
              "      <th>4</th>\n",
              "      <td>10</td>\n",
              "      <td>46-55</td>\n",
              "      <td>Single</td>\n",
              "      <td>0</td>\n",
              "      <td>1</td>\n",
              "      <td>NaN</td>\n",
              "      <td>5</td>\n",
              "    </tr>\n",
              "  </tbody>\n",
              "</table>\n",
              "</div>"
            ],
            "text/plain": [
              "   customer_id age_range  ... no_of_children  income_bracket\n",
              "0            1       70+  ...            NaN               4\n",
              "1            6     46-55  ...            NaN               5\n",
              "2            7     26-35  ...              1               3\n",
              "3            8     26-35  ...              2               6\n",
              "4           10     46-55  ...            NaN               5\n",
              "\n",
              "[5 rows x 7 columns]"
            ]
          },
          "metadata": {
            "tags": []
          },
          "execution_count": 4
        }
      ]
    },
    {
      "cell_type": "code",
      "metadata": {
        "id": "185N3AgefnEV",
        "colab_type": "code",
        "colab": {
          "base_uri": "https://localhost:8080/",
          "height": 52
        },
        "outputId": "0a0aa7ff-fa76-474a-84ac-1d7285978390"
      },
      "source": [
        "print('Data is from {} and to {}'.format(transactions.date.min().date(), transactions.date.max().date()))\n",
        "print('There is total {} customers'.format(transactions.customer_id.nunique()))"
      ],
      "execution_count": 5,
      "outputs": [
        {
          "output_type": "stream",
          "text": [
            "Data is from 2012-01-02 and to 2013-07-03\n",
            "There is total 1582 customers\n"
          ],
          "name": "stdout"
        }
      ]
    },
    {
      "cell_type": "code",
      "metadata": {
        "id": "l2refCVRf5Jp",
        "colab_type": "code",
        "colab": {
          "base_uri": "https://localhost:8080/",
          "height": 514
        },
        "outputId": "0c6947ed-8e49-48bf-f654-3136f639e78e"
      },
      "source": [
        "#plotting total sales \n",
        "plt.figure(figsize= (10,8))\n",
        "transactions.groupby('date')['quantity'].sum().plot()\n",
        "plt.show()"
      ],
      "execution_count": 6,
      "outputs": [
        {
          "output_type": "display_data",
          "data": {
            "image/png": "[encoded data removed]",
            "text/plain": [
              "<Figure size 720x576 with 1 Axes>"
            ]
          },
          "metadata": {
            "tags": [],
            "needs_background": "light"
          }
        }
      ]
    },
    {
      "cell_type": "code",
      "metadata": {
        "id": "FIBIz1r5hCBm",
        "colab_type": "code",
        "colab": {
          "base_uri": "https://localhost:8080/",
          "height": 502
        },
        "outputId": "18604253-6946-4479-f295-2279211ebe0e"
      },
      "source": [
        "#On how many days do people make purchases?\n",
        "plt.figure(figsize= (10,8))\n",
        "sns.distplot(transactions.groupby(['customer_id'])['date'].nunique())\n",
        "plt.show()"
      ],
      "execution_count": 7,
      "outputs": [
        {
          "output_type": "display_data",
          "data": {
            "image/png": "[encoded data removed]",
            "text/plain": [
              "<Figure size 720x576 with 1 Axes>"
            ]
          },
          "metadata": {
            "tags": [],
            "needs_background": "light"
          }
        }
      ]
    },
    {
      "cell_type": "code",
      "metadata": {
        "id": "PeLca2bRhonx",
        "colab_type": "code",
        "colab": {
          "base_uri": "https://localhost:8080/",
          "height": 680
        },
        "outputId": "0b702bc4-e6fe-4a97-dad7-b0f8635623a8"
      },
      "source": [
        "#In how many unique months do people make purchases?\n",
        "transactions['year_month'] = pd.to_datetime(transactions['date'].apply(lambda x: x.strftime('%B-%Y')))\n",
        "print('There are {} unique year months'.format(transactions['year_month'].nunique()))\n",
        "\n",
        "print(transactions.groupby(['customer_id'])['year_month'].nunique().describe())\n",
        "plt.figure(figsize= (10,8))\n",
        "sns.distplot(transactions.groupby(['customer_id'])['year_month'].nunique())\n",
        "plt.show()"
      ],
      "execution_count": 8,
      "outputs": [
        {
          "output_type": "stream",
          "text": [
            "There are 19 unique year months\n",
            "count   1582.000000\n",
            "mean      15.675727\n",
            "std        2.251522\n",
            "min        4.000000\n",
            "25%       15.000000\n",
            "50%       16.000000\n",
            "75%       17.000000\n",
            "max       19.000000\n",
            "Name: year_month, dtype: float64\n"
          ],
          "name": "stdout"
        },
        {
          "output_type": "display_data",
          "data": {
            "image/png": "[encoded data removed]",
            "text/plain": [
              "<Figure size 720x576 with 1 Axes>"
            ]
          },
          "metadata": {
            "tags": [],
            "needs_background": "light"
          }
        }
      ]
    },
    {
      "cell_type": "code",
      "metadata": {
        "id": "ID-RXp_t3Ypw",
        "colab_type": "code",
        "colab": {
          "base_uri": "https://localhost:8080/",
          "height": 176
        },
        "outputId": "a1985f38-55b8-414a-b515-3f58a94c5d37"
      },
      "source": [
        "#how many transactions customers have in a year month \n",
        "cust_transactions = transactions.groupby(['customer_id', 'year_month'])['quantity'].sum()\n",
        "cust_transactions.describe()"
      ],
      "execution_count": 10,
      "outputs": [
        {
          "output_type": "execute_result",
          "data": {
            "text/plain": [
              "count    24799.000000\n",
              "mean      6978.999839\n",
              "std      16192.200044\n",
              "min          1.000000\n",
              "25%         27.000000\n",
              "50%         70.000000\n",
              "75%       5814.000000\n",
              "max     255639.000000\n",
              "Name: quantity, dtype: float64"
            ]
          },
          "metadata": {
            "tags": []
          },
          "execution_count": 10
        }
      ]
    },
    {
      "cell_type": "code",
      "metadata": {
        "id": "fyOE01n74YG7",
        "colab_type": "code",
        "colab": {
          "base_uri": "https://localhost:8080/",
          "height": 520
        },
        "outputId": "72c62f58-4f12-4d41-abef-6f995cfcef9f"
      },
      "source": [
        "plt.figure(figsize= (10,8))\n",
        "sns.distplot(cust_transactions)"
      ],
      "execution_count": 12,
      "outputs": [
        {
          "output_type": "execute_result",
          "data": {
            "text/plain": [
              "<matplotlib.axes._subplots.AxesSubplot at 0x7f870385e1d0>"
            ]
          },
          "metadata": {
            "tags": []
          },
          "execution_count": 12
        },
        {
          "output_type": "display_data",
          "data": {
            "image/png": "[encoded data removed]",
            "text/plain": [
              "<Figure size 720x576 with 1 Axes>"
            ]
          },
          "metadata": {
            "tags": [],
            "needs_background": "light"
          }
        }
      ]
    },
    {
      "cell_type": "markdown",
      "metadata": {
        "id": "1LLDNWsa47p8",
        "colab_type": "text"
      },
      "source": [
        "##Feature Engineering##\n",
        "\n",
        "From the above graphs, we see most of customers purchase every month with a median of 70 items. So instead of predicting whether a customer will buy in the next week, **I'll be predicting whether a customer will buy a lot in the next week**."
      ]
    },
    {
      "cell_type": "markdown",
      "metadata": {
        "id": "4wdXoib75po8",
        "colab_type": "text"
      },
      "source": [
        "**Label**"
      ]
    },
    {
      "cell_type": "code",
      "metadata": {
        "id": "Vtr4sSWq4t-g",
        "colab_type": "code",
        "colab": {
          "base_uri": "https://localhost:8080/",
          "height": 253
        },
        "outputId": "83abdcb0-6cb7-4e9a-d0c4-96982df1b36a"
      },
      "source": [
        "#group by id and date\n",
        "transformed_data = pd.DataFrame(transactions.groupby(['customer_id', 'date'])['quantity', 'selling_price'].sum()).reset_index()\n",
        "transformed_data.head()"
      ],
      "execution_count": 13,
      "outputs": [
        {
          "output_type": "stream",
          "text": [
            "/usr/local/lib/python3.6/dist-packages/ipykernel_launcher.py:2: FutureWarning: Indexing with multiple keys (implicitly converted to a tuple of keys) will be deprecated, use a list instead.\n",
            "  \n"
          ],
          "name": "stderr"
        },
        {
          "output_type": "execute_result",
          "data": {
            "text/html": [
              "<div>\n",
              "<style scoped>\n",
              "    .dataframe tbody tr th:only-of-type {\n",
              "        vertical-align: middle;\n",
              "    }\n",
              "\n",
              "    .dataframe tbody tr th {\n",
              "        vertical-align: top;\n",
              "    }\n",
              "\n",
              "    .dataframe thead th {\n",
              "        text-align: right;\n",
              "    }\n",
              "</style>\n",
              "<table border=\"1\" class=\"dataframe\">\n",
              "  <thead>\n",
              "    <tr style=\"text-align: right;\">\n",
              "      <th></th>\n",
              "      <th>customer_id</th>\n",
              "      <th>date</th>\n",
              "      <th>quantity</th>\n",
              "      <th>selling_price</th>\n",
              "    </tr>\n",
              "  </thead>\n",
              "  <tbody>\n",
              "    <tr>\n",
              "      <th>0</th>\n",
              "      <td>1</td>\n",
              "      <td>2012-02-21</td>\n",
              "      <td>31</td>\n",
              "      <td>2603.450000</td>\n",
              "    </tr>\n",
              "    <tr>\n",
              "      <th>1</th>\n",
              "      <td>1</td>\n",
              "      <td>2012-03-08</td>\n",
              "      <td>13</td>\n",
              "      <td>1431.200000</td>\n",
              "    </tr>\n",
              "    <tr>\n",
              "      <th>2</th>\n",
              "      <td>1</td>\n",
              "      <td>2012-03-29</td>\n",
              "      <td>9</td>\n",
              "      <td>691.730000</td>\n",
              "    </tr>\n",
              "    <tr>\n",
              "      <th>3</th>\n",
              "      <td>1</td>\n",
              "      <td>2012-04-04</td>\n",
              "      <td>28</td>\n",
              "      <td>1913.500000</td>\n",
              "    </tr>\n",
              "    <tr>\n",
              "      <th>4</th>\n",
              "      <td>1</td>\n",
              "      <td>2012-04-11</td>\n",
              "      <td>17</td>\n",
              "      <td>1702.280000</td>\n",
              "    </tr>\n",
              "  </tbody>\n",
              "</table>\n",
              "</div>"
            ],
            "text/plain": [
              "   customer_id       date  quantity  selling_price\n",
              "0            1 2012-02-21        31    2603.450000\n",
              "1            1 2012-03-08        13    1431.200000\n",
              "2            1 2012-03-29         9     691.730000\n",
              "3            1 2012-04-04        28    1913.500000\n",
              "4            1 2012-04-11        17    1702.280000"
            ]
          },
          "metadata": {
            "tags": []
          },
          "execution_count": 13
        }
      ]
    },
    {
      "cell_type": "code",
      "metadata": {
        "id": "tUwdajxF6eZX",
        "colab_type": "code",
        "colab": {
          "base_uri": "https://localhost:8080/",
          "height": 176
        },
        "outputId": "3085f9be-8e66-452d-cf42-bbff4682415b"
      },
      "source": [
        "#How many items do people purchase weekly?\n",
        "weekly_purchases = transformed_data.groupby(['customer_id', pd.Grouper(key='date', freq='W-MON')])['quantity'].sum().reset_index().sort_values('date')\n",
        "weekly_purchases['quantity'].describe()"
      ],
      "execution_count": 14,
      "outputs": [
        {
          "output_type": "execute_result",
          "data": {
            "text/plain": [
              "count    75552.000000\n",
              "mean      2290.769497\n",
              "std       6036.070553\n",
              "min          1.000000\n",
              "25%          8.000000\n",
              "50%         20.000000\n",
              "75%         49.000000\n",
              "max     122593.000000\n",
              "Name: quantity, dtype: float64"
            ]
          },
          "metadata": {
            "tags": []
          },
          "execution_count": 14
        }
      ]
    },
    {
      "cell_type": "markdown",
      "metadata": {
        "id": "6JzFloSd8e4_",
        "colab_type": "text"
      },
      "source": [
        "Based on the table above, the cut-off for super customers will be 49 items. Those who buy more than 49 items in the next week are classified as *super-customers* and those who buy less are classified as regular customers"
      ]
    },
    {
      "cell_type": "code",
      "metadata": {
        "id": "SmECsob08YSD",
        "colab_type": "code",
        "colab": {}
      },
      "source": [
        "#Function to determine super customers (1 -Yes and 0 - No)\n",
        "def is_super(df): \n",
        "  total = df['quantity'].sum()\n",
        "  if total > 49: \n",
        "    return 1 \n",
        "  else: \n",
        "    return 0"
      ],
      "execution_count": 15,
      "outputs": []
    },
    {
      "cell_type": "code",
      "metadata": {
        "id": "TwLlXeYy9VTP",
        "colab_type": "code",
        "colab": {
          "base_uri": "https://localhost:8080/",
          "height": 70
        },
        "outputId": "9af843d5-0176-46ff-b825-532d134f8b34"
      },
      "source": [
        "%%time\n",
        "\n",
        "#creating label maker instance https://compose.featurelabs.com/en/latest/index.html\n",
        "\n",
        "label_maker = cp.LabelMaker(\n",
        "    target_entity=\"customer_id\", #for whom to create labels?\n",
        "    time_index=\"date\",\n",
        "    labeling_function=is_super, #scoring function above\n",
        "    window_size=\"W\" #weekly window\n",
        ")\n",
        "\n",
        "#Creating labels\n",
        "lt = label_maker.search(\n",
        "    transactions.sort_values('date'),#df\n",
        "    minimum_data='2012-07-02', #date where the first label will be created\n",
        "    num_examples_per_instance=-1, #its flexible\n",
        "    verbose=True, #will show a progress bar\n",
        "    drop_empty=False #don't drop the weeks with no purchase\n",
        ")\n",
        "\n",
        "lt.head()"
      ],
      "execution_count": 16,
      "outputs": [
        {
          "output_type": "stream",
          "text": [
            "Elapsed: 01:43 | Remaining: 00:00 | Progress: 100%|██████████| customer_id: 1582/1582 \n",
            "CPU times: user 1min 44s, sys: 1.32 s, total: 1min 45s\n",
            "Wall time: 1min 44s\n"
          ],
          "name": "stdout"
        }
      ]
    },
    {
      "cell_type": "code",
      "metadata": {
        "id": "Zu-JJRB_BwJ2",
        "colab_type": "code",
        "colab": {
          "base_uri": "https://localhost:8080/",
          "height": 197
        },
        "outputId": "8ffff792-2dc8-4ddd-864e-a6d3bab2d003"
      },
      "source": [
        "lt.head()"
      ],
      "execution_count": 17,
      "outputs": [
        {
          "output_type": "execute_result",
          "data": {
            "text/html": [
              "<div>\n",
              "<style scoped>\n",
              "    .dataframe tbody tr th:only-of-type {\n",
              "        vertical-align: middle;\n",
              "    }\n",
              "\n",
              "    .dataframe tbody tr th {\n",
              "        vertical-align: top;\n",
              "    }\n",
              "\n",
              "    .dataframe thead th {\n",
              "        text-align: right;\n",
              "    }\n",
              "</style>\n",
              "<table border=\"1\" class=\"dataframe\">\n",
              "  <thead>\n",
              "    <tr style=\"text-align: right;\">\n",
              "      <th></th>\n",
              "      <th>customer_id</th>\n",
              "      <th>time</th>\n",
              "      <th>is_super</th>\n",
              "    </tr>\n",
              "  </thead>\n",
              "  <tbody>\n",
              "    <tr>\n",
              "      <th>0</th>\n",
              "      <td>1</td>\n",
              "      <td>2012-07-02</td>\n",
              "      <td>0</td>\n",
              "    </tr>\n",
              "    <tr>\n",
              "      <th>1</th>\n",
              "      <td>1</td>\n",
              "      <td>2012-07-08</td>\n",
              "      <td>0</td>\n",
              "    </tr>\n",
              "    <tr>\n",
              "      <th>2</th>\n",
              "      <td>1</td>\n",
              "      <td>2012-07-15</td>\n",
              "      <td>0</td>\n",
              "    </tr>\n",
              "    <tr>\n",
              "      <th>3</th>\n",
              "      <td>1</td>\n",
              "      <td>2012-07-22</td>\n",
              "      <td>0</td>\n",
              "    </tr>\n",
              "    <tr>\n",
              "      <th>4</th>\n",
              "      <td>1</td>\n",
              "      <td>2012-07-29</td>\n",
              "      <td>0</td>\n",
              "    </tr>\n",
              "  </tbody>\n",
              "</table>\n",
              "</div>"
            ],
            "text/plain": [
              "   customer_id       time  is_super\n",
              "0            1 2012-07-02         0\n",
              "1            1 2012-07-08         0\n",
              "2            1 2012-07-15         0\n",
              "3            1 2012-07-22         0\n",
              "4            1 2012-07-29         0"
            ]
          },
          "metadata": {
            "tags": []
          },
          "execution_count": 17
        }
      ]
    },
    {
      "cell_type": "markdown",
      "metadata": {
        "id": "lzjMeYgdCTI0",
        "colab_type": "text"
      },
      "source": [
        "The created labels have the following structure - customer id, first date of the week, and whether a person is super-customer in the next week. Let's see how many people were super-customers and on how many weeks."
      ]
    },
    {
      "cell_type": "code",
      "metadata": {
        "id": "dIrlSFgJCXxS",
        "colab_type": "code",
        "colab": {
          "base_uri": "https://localhost:8080/",
          "height": 105
        },
        "outputId": "b12f819e-22b9-4b13-c53b-9b10ca9d119c"
      },
      "source": [
        "print('There are {} unique weeks and {} unique customers'.format(lt.time.nunique(), lt.customer_id.nunique()))\n",
        "print(f'\\nOn average each customer was super-customer {int(lt.loc[lt.is_super == 1, :][\"customer_id\"].value_counts().describe()[\"mean\"])} times' )\n",
        "print(f'\\nMedian number of times each customer was super-customer is {int(lt.loc[lt.is_super == 1, :][\"customer_id\"].value_counts().describe()[\"50%\"])}' )"
      ],
      "execution_count": 19,
      "outputs": [
        {
          "output_type": "stream",
          "text": [
            "There are 53 unique weeks and 1580 unique customers\n",
            "\n",
            "On average each customer was super-customer 11 times\n",
            "\n",
            "Median number of times each customer was super-customer is 7\n"
          ],
          "name": "stdout"
        }
      ]
    },
    {
      "cell_type": "markdown",
      "metadata": {
        "id": "4__J0eZKE23u",
        "colab_type": "text"
      },
      "source": [
        "It appears almost every customer was a super-customer, but on average each customer was categorised as super only 11 times out of 53\n",
        "\n",
        "Can we distinguish between the good weeks vs average weeks? Let's move on to feature engineering, to create the appropriate dataset for this problem."
      ]
    },
    {
      "cell_type": "markdown",
      "metadata": {
        "id": "R4Fb2od5G06B",
        "colab_type": "text"
      },
      "source": [
        "##Features##\n",
        "\n",
        "Here I'm going to use featuretools to automatically create complicated features on the sliding window of 1 week. The first step in this process is to set-up a schema with entities that you have (just like in database development)"
      ]
    },
    {
      "cell_type": "code",
      "metadata": {
        "id": "5QgoMhhFEprb",
        "colab_type": "code",
        "colab": {}
      },
      "source": [
        "#Creating entity set\n",
        "es = ft.EntitySet(id=\"customer_data\")"
      ],
      "execution_count": 20,
      "outputs": []
    },
    {
      "cell_type": "markdown",
      "metadata": {
        "id": "NBX9hY1wHH-J",
        "colab_type": "text"
      },
      "source": [
        "\n",
        "Each dataset should have a unique ID column, so for transactions we need to create it and remove any duplicates. Here I'm going to use the combination of date, customer id, and item id."
      ]
    },
    {
      "cell_type": "code",
      "metadata": {
        "id": "iZhjU5C-HE4Z",
        "colab_type": "code",
        "colab": {}
      },
      "source": [
        "#Concatenate the fields to create ID \n",
        "transactions['transaction_id'] = transactions.date.astype(str) + '_' + transactions.customer_id.astype(str) + '_' + transactions.item_id.astype(str)\n",
        "#remove duplicates\n",
        "transactions_cleaned = transactions.drop_duplicates(subset='transaction_id')\n",
        "transactions_cleaned = transactions_cleaned[['transaction_id', 'date', 'customer_id', 'item_id', 'quantity', 'selling_price',\n",
        "       'other_discount', 'coupon_discount']]"
      ],
      "execution_count": 21,
      "outputs": []
    },
    {
      "cell_type": "code",
      "metadata": {
        "id": "ZoJQ2P7SHyYY",
        "colab_type": "code",
        "colab": {
          "base_uri": "https://localhost:8080/",
          "height": 197
        },
        "outputId": "2d1efb78-54d0-4cc7-f9f9-11d6f96c71b9"
      },
      "source": [
        "transactions_cleaned.head()"
      ],
      "execution_count": 22,
      "outputs": [
        {
          "output_type": "execute_result",
          "data": {
            "text/html": [
              "<div>\n",
              "<style scoped>\n",
              "    .dataframe tbody tr th:only-of-type {\n",
              "        vertical-align: middle;\n",
              "    }\n",
              "\n",
              "    .dataframe tbody tr th {\n",
              "        vertical-align: top;\n",
              "    }\n",
              "\n",
              "    .dataframe thead th {\n",
              "        text-align: right;\n",
              "    }\n",
              "</style>\n",
              "<table border=\"1\" class=\"dataframe\">\n",
              "  <thead>\n",
              "    <tr style=\"text-align: right;\">\n",
              "      <th></th>\n",
              "      <th>transaction_id</th>\n",
              "      <th>date</th>\n",
              "      <th>customer_id</th>\n",
              "      <th>item_id</th>\n",
              "      <th>quantity</th>\n",
              "      <th>selling_price</th>\n",
              "      <th>other_discount</th>\n",
              "      <th>coupon_discount</th>\n",
              "    </tr>\n",
              "  </thead>\n",
              "  <tbody>\n",
              "    <tr>\n",
              "      <th>0</th>\n",
              "      <td>2012-01-02_1501_26830</td>\n",
              "      <td>2012-01-02</td>\n",
              "      <td>1501</td>\n",
              "      <td>26830</td>\n",
              "      <td>1</td>\n",
              "      <td>35.260000</td>\n",
              "      <td>-10.690000</td>\n",
              "      <td>0.000000</td>\n",
              "    </tr>\n",
              "    <tr>\n",
              "      <th>1</th>\n",
              "      <td>2012-01-02_1501_54253</td>\n",
              "      <td>2012-01-02</td>\n",
              "      <td>1501</td>\n",
              "      <td>54253</td>\n",
              "      <td>1</td>\n",
              "      <td>53.430000</td>\n",
              "      <td>-13.890000</td>\n",
              "      <td>0.000000</td>\n",
              "    </tr>\n",
              "    <tr>\n",
              "      <th>2</th>\n",
              "      <td>2012-01-02_1501_31962</td>\n",
              "      <td>2012-01-02</td>\n",
              "      <td>1501</td>\n",
              "      <td>31962</td>\n",
              "      <td>1</td>\n",
              "      <td>106.500000</td>\n",
              "      <td>-14.250000</td>\n",
              "      <td>0.000000</td>\n",
              "    </tr>\n",
              "    <tr>\n",
              "      <th>3</th>\n",
              "      <td>2012-01-02_1501_33647</td>\n",
              "      <td>2012-01-02</td>\n",
              "      <td>1501</td>\n",
              "      <td>33647</td>\n",
              "      <td>1</td>\n",
              "      <td>67.320000</td>\n",
              "      <td>0.000000</td>\n",
              "      <td>0.000000</td>\n",
              "    </tr>\n",
              "    <tr>\n",
              "      <th>4</th>\n",
              "      <td>2012-01-02_1501_48199</td>\n",
              "      <td>2012-01-02</td>\n",
              "      <td>1501</td>\n",
              "      <td>48199</td>\n",
              "      <td>1</td>\n",
              "      <td>71.240000</td>\n",
              "      <td>-28.140000</td>\n",
              "      <td>0.000000</td>\n",
              "    </tr>\n",
              "  </tbody>\n",
              "</table>\n",
              "</div>"
            ],
            "text/plain": [
              "          transaction_id       date  ...  other_discount  coupon_discount\n",
              "0  2012-01-02_1501_26830 2012-01-02  ...      -10.690000         0.000000\n",
              "1  2012-01-02_1501_54253 2012-01-02  ...      -13.890000         0.000000\n",
              "2  2012-01-02_1501_31962 2012-01-02  ...      -14.250000         0.000000\n",
              "3  2012-01-02_1501_33647 2012-01-02  ...        0.000000         0.000000\n",
              "4  2012-01-02_1501_48199 2012-01-02  ...      -28.140000         0.000000\n",
              "\n",
              "[5 rows x 8 columns]"
            ]
          },
          "metadata": {
            "tags": []
          },
          "execution_count": 22
        }
      ]
    },
    {
      "cell_type": "markdown",
      "metadata": {
        "id": "8s3q3ijgICd2",
        "colab_type": "text"
      },
      "source": [
        "Then I start adding entities, one at a time. They must have the:\n",
        "\n",
        "1. ID column\n",
        "2. Date column"
      ]
    },
    {
      "cell_type": "code",
      "metadata": {
        "id": "dHroE5AAIGw6",
        "colab_type": "code",
        "colab": {}
      },
      "source": [
        "#transactions\n",
        "es = es.entity_from_dataframe(entity_id=\"transactions\",\n",
        "                              dataframe=transactions_cleaned,\n",
        "                            index=\"transaction_id\",\n",
        "                             time_index=\"date\",\n",
        "                            variable_types={\"item_id\": ft.variable_types.Categorical}) #make sure to specify categorical"
      ],
      "execution_count": 23,
      "outputs": []
    },
    {
      "cell_type": "code",
      "metadata": {
        "id": "nzYj5k-RIeIh",
        "colab_type": "code",
        "colab": {}
      },
      "source": [
        "#items\n",
        "es = es.entity_from_dataframe(entity_id=\"items\",\n",
        "                             dataframe=items,\n",
        "                             index=\"item_id\",\n",
        "                             variable_types={\"brand\": ft.variable_types.Categorical})"
      ],
      "execution_count": 24,
      "outputs": []
    },
    {
      "cell_type": "code",
      "metadata": {
        "id": "7kAK1rFEIj2d",
        "colab_type": "code",
        "colab": {}
      },
      "source": [
        "#After entity is added, don't forget to specify the relationships between the features\n",
        "new_relationship = ft.Relationship(es[\"items\"][\"item_id\"],\n",
        "                                      es[\"transactions\"][\"item_id\"])\n",
        "\n",
        "es = es.add_relationship(new_relationship)"
      ],
      "execution_count": 25,
      "outputs": []
    },
    {
      "cell_type": "code",
      "metadata": {
        "id": "UeiwebJyIvAF",
        "colab_type": "code",
        "colab": {}
      },
      "source": [
        "#customers\n",
        "es = es.entity_from_dataframe(entity_id='customers',\n",
        "                             dataframe=customers,\n",
        "                             index='customer_id',\n",
        "                             variable_types={\"rented\": ft.variable_types.Categorical,\n",
        "                                            \"no_of_children\": ft.variable_types.Categorical,\n",
        "                                            \"income_bracket\": ft.variable_types.Categorical})"
      ],
      "execution_count": 26,
      "outputs": []
    },
    {
      "cell_type": "code",
      "metadata": {
        "id": "zUNXDHBbI2J0",
        "colab_type": "code",
        "colab": {}
      },
      "source": [
        "\n",
        "new_relationship = ft.Relationship(es[\"customers\"][\"customer_id\"],\n",
        "                                      es[\"transactions\"][\"customer_id\"])\n",
        "\n",
        "es = es.add_relationship(new_relationship)"
      ],
      "execution_count": 27,
      "outputs": []
    },
    {
      "cell_type": "code",
      "metadata": {
        "id": "9gVxz_o2I7ao",
        "colab_type": "code",
        "colab": {
          "base_uri": "https://localhost:8080/",
          "height": 158
        },
        "outputId": "25b69949-0cce-4670-e32a-d9d646c87293"
      },
      "source": [
        "es"
      ],
      "execution_count": 28,
      "outputs": [
        {
          "output_type": "execute_result",
          "data": {
            "text/plain": [
              "Entityset: customer_data\n",
              "  Entities:\n",
              "    transactions [Rows: 1320387, Columns: 8]\n",
              "    items [Rows: 74066, Columns: 4]\n",
              "    customers [Rows: 760, Columns: 7]\n",
              "  Relationships:\n",
              "    transactions.item_id -> items.item_id\n",
              "    transactions.customer_id -> customers.customer_id"
            ]
          },
          "metadata": {
            "tags": []
          },
          "execution_count": 28
        }
      ]
    },
    {
      "cell_type": "markdown",
      "metadata": {
        "id": "01P9DyBdJgzt",
        "colab_type": "text"
      },
      "source": [
        "Since I'm making weekly predictions, my features will also be on the weekly level. In particular, the features are going to be created for wndows of:\n",
        "\n",
        "1. 7 days\n",
        "2. 14 days\n",
        "3. 21 days\n",
        "4. 28 days\n",
        "5. 35 days\n",
        "6. 42 days\n",
        "7. 49 days\n",
        "8. 56 days\n",
        "\n",
        "This for loop is going to iterate over the window sizes and automatically create features for my model. I've commented almost every line of code for better readability."
      ]
    },
    {
      "cell_type": "code",
      "metadata": {
        "id": "W3rllHxIJ5kD",
        "colab_type": "code",
        "colab": {}
      },
      "source": [
        "day_windows = [7, 14, 21, 28, 35, 42, 49, 56] #all the window frames\n",
        "feature_dfs = [] #to populate with features\n",
        "feature_encodings = []\n",
        "\n",
        "for w in day_windows:\n",
        "    feature_matrix, features = ft.dfs(target_entity=\"customers\", \n",
        "                                  cutoff_time=lt, #the labels created earlier\n",
        "                                  training_window=ft.Timedelta(f\"{str(w)} days\"), #Window populated in the for loop\n",
        "                                  ignore_variables = {'customers': [c for c in customers.columns[1:]]}, #ignore demographic variables\n",
        "                                  max_features = 20, #number of features to generate per window\n",
        "                                  entityset=es, #schema created before\n",
        "                                  verbose=True\n",
        "                                 )\n",
        "    \n",
        "    encoded, wfeatures_encoded = ft.encode_features(feature_matrix, features) #outputs the dataframe and names of generated features\n",
        "    feature_matrix.columns = [f'D{str(w)}_' + c for c in feature_matrix.columns] #renaming columns to merge \n",
        "    feature_matrix = feature_matrix[[c for c in feature_matrix.columns if 'is_super' not in c]] #excluding the label column to not get duplicated\n",
        "    feature_dfs.append(encoded) #populating the list above\n",
        "    feature_encodings.append(features) #saving for later use"
      ],
      "execution_count": null,
      "outputs": []
    },
    {
      "cell_type": "code",
      "metadata": {
        "id": "nwV3kjYSNyMT",
        "colab_type": "code",
        "colab": {}
      },
      "source": [
        "#Joining all features\n",
        "all_features = pd.concat(feature_dfs, axis=1) \n",
        "\n",
        "#Adding label column\n",
        "all_features['is_super'] = lt['is_super'].values"
      ],
      "execution_count": 32,
      "outputs": []
    },
    {
      "cell_type": "code",
      "metadata": {
        "id": "1PcLUuPdN6PT",
        "colab_type": "code",
        "colab": {
          "base_uri": "https://localhost:8080/",
          "height": 276
        },
        "outputId": "63e58dfe-6a6f-47dc-c2a5-9cb4ed5e4c85"
      },
      "source": [
        "all_features.head()"
      ],
      "execution_count": 33,
      "outputs": [
        {
          "output_type": "execute_result",
          "data": {
            "text/html": [
              "<div>\n",
              "<style scoped>\n",
              "    .dataframe tbody tr th:only-of-type {\n",
              "        vertical-align: middle;\n",
              "    }\n",
              "\n",
              "    .dataframe tbody tr th {\n",
              "        vertical-align: top;\n",
              "    }\n",
              "\n",
              "    .dataframe thead th {\n",
              "        text-align: right;\n",
              "    }\n",
              "</style>\n",
              "<table border=\"1\" class=\"dataframe\">\n",
              "  <thead>\n",
              "    <tr style=\"text-align: right;\">\n",
              "      <th></th>\n",
              "      <th>SUM(transactions.quantity)</th>\n",
              "      <th>SUM(transactions.selling_price)</th>\n",
              "      <th>SUM(transactions.other_discount)</th>\n",
              "      <th>SUM(transactions.coupon_discount)</th>\n",
              "      <th>STD(transactions.quantity)</th>\n",
              "      <th>STD(transactions.selling_price)</th>\n",
              "      <th>STD(transactions.other_discount)</th>\n",
              "      <th>STD(transactions.coupon_discount)</th>\n",
              "      <th>MAX(transactions.quantity)</th>\n",
              "      <th>MAX(transactions.selling_price)</th>\n",
              "      <th>MAX(transactions.other_discount)</th>\n",
              "      <th>MAX(transactions.coupon_discount)</th>\n",
              "      <th>SKEW(transactions.quantity)</th>\n",
              "      <th>SKEW(transactions.selling_price)</th>\n",
              "      <th>SKEW(transactions.other_discount)</th>\n",
              "      <th>SKEW(transactions.coupon_discount)</th>\n",
              "      <th>MIN(transactions.quantity)</th>\n",
              "      <th>MIN(transactions.selling_price)</th>\n",
              "      <th>MIN(transactions.other_discount)</th>\n",
              "      <th>MIN(transactions.coupon_discount)</th>\n",
              "      <th>is_super</th>\n",
              "      <th>SUM(transactions.quantity)</th>\n",
              "      <th>SUM(transactions.selling_price)</th>\n",
              "      <th>SUM(transactions.other_discount)</th>\n",
              "      <th>SUM(transactions.coupon_discount)</th>\n",
              "      <th>STD(transactions.quantity)</th>\n",
              "      <th>STD(transactions.selling_price)</th>\n",
              "      <th>STD(transactions.other_discount)</th>\n",
              "      <th>STD(transactions.coupon_discount)</th>\n",
              "      <th>MAX(transactions.quantity)</th>\n",
              "      <th>MAX(transactions.selling_price)</th>\n",
              "      <th>MAX(transactions.other_discount)</th>\n",
              "      <th>MAX(transactions.coupon_discount)</th>\n",
              "      <th>SKEW(transactions.quantity)</th>\n",
              "      <th>SKEW(transactions.selling_price)</th>\n",
              "      <th>SKEW(transactions.other_discount)</th>\n",
              "      <th>SKEW(transactions.coupon_discount)</th>\n",
              "      <th>MIN(transactions.quantity)</th>\n",
              "      <th>MIN(transactions.selling_price)</th>\n",
              "      <th>MIN(transactions.other_discount)</th>\n",
              "      <th>...</th>\n",
              "      <th>SUM(transactions.other_discount)</th>\n",
              "      <th>SUM(transactions.coupon_discount)</th>\n",
              "      <th>STD(transactions.quantity)</th>\n",
              "      <th>STD(transactions.selling_price)</th>\n",
              "      <th>STD(transactions.other_discount)</th>\n",
              "      <th>STD(transactions.coupon_discount)</th>\n",
              "      <th>MAX(transactions.quantity)</th>\n",
              "      <th>MAX(transactions.selling_price)</th>\n",
              "      <th>MAX(transactions.other_discount)</th>\n",
              "      <th>MAX(transactions.coupon_discount)</th>\n",
              "      <th>SKEW(transactions.quantity)</th>\n",
              "      <th>SKEW(transactions.selling_price)</th>\n",
              "      <th>SKEW(transactions.other_discount)</th>\n",
              "      <th>SKEW(transactions.coupon_discount)</th>\n",
              "      <th>MIN(transactions.quantity)</th>\n",
              "      <th>MIN(transactions.selling_price)</th>\n",
              "      <th>MIN(transactions.other_discount)</th>\n",
              "      <th>MIN(transactions.coupon_discount)</th>\n",
              "      <th>is_super</th>\n",
              "      <th>SUM(transactions.quantity)</th>\n",
              "      <th>SUM(transactions.selling_price)</th>\n",
              "      <th>SUM(transactions.other_discount)</th>\n",
              "      <th>SUM(transactions.coupon_discount)</th>\n",
              "      <th>STD(transactions.quantity)</th>\n",
              "      <th>STD(transactions.selling_price)</th>\n",
              "      <th>STD(transactions.other_discount)</th>\n",
              "      <th>STD(transactions.coupon_discount)</th>\n",
              "      <th>MAX(transactions.quantity)</th>\n",
              "      <th>MAX(transactions.selling_price)</th>\n",
              "      <th>MAX(transactions.other_discount)</th>\n",
              "      <th>MAX(transactions.coupon_discount)</th>\n",
              "      <th>SKEW(transactions.quantity)</th>\n",
              "      <th>SKEW(transactions.selling_price)</th>\n",
              "      <th>SKEW(transactions.other_discount)</th>\n",
              "      <th>SKEW(transactions.coupon_discount)</th>\n",
              "      <th>MIN(transactions.quantity)</th>\n",
              "      <th>MIN(transactions.selling_price)</th>\n",
              "      <th>MIN(transactions.other_discount)</th>\n",
              "      <th>MIN(transactions.coupon_discount)</th>\n",
              "      <th>is_super</th>\n",
              "    </tr>\n",
              "    <tr>\n",
              "      <th>customer_id</th>\n",
              "      <th></th>\n",
              "      <th></th>\n",
              "      <th></th>\n",
              "      <th></th>\n",
              "      <th></th>\n",
              "      <th></th>\n",
              "      <th></th>\n",
              "      <th></th>\n",
              "      <th></th>\n",
              "      <th></th>\n",
              "      <th></th>\n",
              "      <th></th>\n",
              "      <th></th>\n",
              "      <th></th>\n",
              "      <th></th>\n",
              "      <th></th>\n",
              "      <th></th>\n",
              "      <th></th>\n",
              "      <th></th>\n",
              "      <th></th>\n",
              "      <th></th>\n",
              "      <th></th>\n",
              "      <th></th>\n",
              "      <th></th>\n",
              "      <th></th>\n",
              "      <th></th>\n",
              "      <th></th>\n",
              "      <th></th>\n",
              "      <th></th>\n",
              "      <th></th>\n",
              "      <th></th>\n",
              "      <th></th>\n",
              "      <th></th>\n",
              "      <th></th>\n",
              "      <th></th>\n",
              "      <th></th>\n",
              "      <th></th>\n",
              "      <th></th>\n",
              "      <th></th>\n",
              "      <th></th>\n",
              "      <th></th>\n",
              "      <th></th>\n",
              "      <th></th>\n",
              "      <th></th>\n",
              "      <th></th>\n",
              "      <th></th>\n",
              "      <th></th>\n",
              "      <th></th>\n",
              "      <th></th>\n",
              "      <th></th>\n",
              "      <th></th>\n",
              "      <th></th>\n",
              "      <th></th>\n",
              "      <th></th>\n",
              "      <th></th>\n",
              "      <th></th>\n",
              "      <th></th>\n",
              "      <th></th>\n",
              "      <th></th>\n",
              "      <th></th>\n",
              "      <th></th>\n",
              "      <th></th>\n",
              "      <th></th>\n",
              "      <th></th>\n",
              "      <th></th>\n",
              "      <th></th>\n",
              "      <th></th>\n",
              "      <th></th>\n",
              "      <th></th>\n",
              "      <th></th>\n",
              "      <th></th>\n",
              "      <th></th>\n",
              "      <th></th>\n",
              "      <th></th>\n",
              "      <th></th>\n",
              "      <th></th>\n",
              "      <th></th>\n",
              "      <th></th>\n",
              "      <th></th>\n",
              "      <th></th>\n",
              "      <th></th>\n",
              "    </tr>\n",
              "  </thead>\n",
              "  <tbody>\n",
              "    <tr>\n",
              "      <th>1</th>\n",
              "      <td>25.000000</td>\n",
              "      <td>1867.900000</td>\n",
              "      <td>-368.660000</td>\n",
              "      <td>-53.420000</td>\n",
              "      <td>0.288104</td>\n",
              "      <td>48.746850</td>\n",
              "      <td>27.726490</td>\n",
              "      <td>6.693811</td>\n",
              "      <td>2.000000</td>\n",
              "      <td>238.300000</td>\n",
              "      <td>0.000000</td>\n",
              "      <td>0.000000</td>\n",
              "      <td>3.140400</td>\n",
              "      <td>1.863113</td>\n",
              "      <td>-2.409933</td>\n",
              "      <td>-3.029706</td>\n",
              "      <td>1.000000</td>\n",
              "      <td>31.700000</td>\n",
              "      <td>-110.780000</td>\n",
              "      <td>-26.710000</td>\n",
              "      <td>0</td>\n",
              "      <td>37.000000</td>\n",
              "      <td>3217.170000</td>\n",
              "      <td>-692.790000</td>\n",
              "      <td>-53.420000</td>\n",
              "      <td>0.287902</td>\n",
              "      <td>55.831240</td>\n",
              "      <td>29.143570</td>\n",
              "      <td>5.575645</td>\n",
              "      <td>2.000000</td>\n",
              "      <td>248.980000</td>\n",
              "      <td>0.000000</td>\n",
              "      <td>0.000000</td>\n",
              "      <td>3.039226</td>\n",
              "      <td>1.405636</td>\n",
              "      <td>-1.687494</td>\n",
              "      <td>-3.797168</td>\n",
              "      <td>1.000000</td>\n",
              "      <td>31.700000</td>\n",
              "      <td>-110.780000</td>\n",
              "      <td>...</td>\n",
              "      <td>-2396.490000</td>\n",
              "      <td>-142.470000</td>\n",
              "      <td>0.534870</td>\n",
              "      <td>58.976250</td>\n",
              "      <td>42.705538</td>\n",
              "      <td>8.236005</td>\n",
              "      <td>5.000000</td>\n",
              "      <td>445.250000</td>\n",
              "      <td>0.000000</td>\n",
              "      <td>0.000000</td>\n",
              "      <td>3.792618</td>\n",
              "      <td>2.513127</td>\n",
              "      <td>-5.303531</td>\n",
              "      <td>-9.748455</td>\n",
              "      <td>1.000000</td>\n",
              "      <td>17.810000</td>\n",
              "      <td>-372.230000</td>\n",
              "      <td>-89.050000</td>\n",
              "      <td>0</td>\n",
              "      <td>196.000000</td>\n",
              "      <td>15914.560000</td>\n",
              "      <td>-2699.620000</td>\n",
              "      <td>-222.600000</td>\n",
              "      <td>0.501071</td>\n",
              "      <td>59.768998</td>\n",
              "      <td>38.909872</td>\n",
              "      <td>7.827813</td>\n",
              "      <td>5.000000</td>\n",
              "      <td>445.250000</td>\n",
              "      <td>0.000000</td>\n",
              "      <td>0.000000</td>\n",
              "      <td>3.861156</td>\n",
              "      <td>2.299973</td>\n",
              "      <td>-5.720998</td>\n",
              "      <td>-9.220279</td>\n",
              "      <td>1.000000</td>\n",
              "      <td>17.810000</td>\n",
              "      <td>-372.230000</td>\n",
              "      <td>-89.050000</td>\n",
              "      <td>0</td>\n",
              "    </tr>\n",
              "    <tr>\n",
              "      <th>2</th>\n",
              "      <td>0.000000</td>\n",
              "      <td>0.000000</td>\n",
              "      <td>0.000000</td>\n",
              "      <td>0.000000</td>\n",
              "      <td>nan</td>\n",
              "      <td>nan</td>\n",
              "      <td>nan</td>\n",
              "      <td>nan</td>\n",
              "      <td>nan</td>\n",
              "      <td>nan</td>\n",
              "      <td>nan</td>\n",
              "      <td>nan</td>\n",
              "      <td>nan</td>\n",
              "      <td>nan</td>\n",
              "      <td>nan</td>\n",
              "      <td>nan</td>\n",
              "      <td>nan</td>\n",
              "      <td>nan</td>\n",
              "      <td>nan</td>\n",
              "      <td>nan</td>\n",
              "      <td>0</td>\n",
              "      <td>0.000000</td>\n",
              "      <td>0.000000</td>\n",
              "      <td>0.000000</td>\n",
              "      <td>0.000000</td>\n",
              "      <td>nan</td>\n",
              "      <td>nan</td>\n",
              "      <td>nan</td>\n",
              "      <td>nan</td>\n",
              "      <td>nan</td>\n",
              "      <td>nan</td>\n",
              "      <td>nan</td>\n",
              "      <td>nan</td>\n",
              "      <td>nan</td>\n",
              "      <td>nan</td>\n",
              "      <td>nan</td>\n",
              "      <td>nan</td>\n",
              "      <td>nan</td>\n",
              "      <td>nan</td>\n",
              "      <td>nan</td>\n",
              "      <td>...</td>\n",
              "      <td>0.000000</td>\n",
              "      <td>0.000000</td>\n",
              "      <td>nan</td>\n",
              "      <td>nan</td>\n",
              "      <td>nan</td>\n",
              "      <td>nan</td>\n",
              "      <td>nan</td>\n",
              "      <td>nan</td>\n",
              "      <td>nan</td>\n",
              "      <td>nan</td>\n",
              "      <td>nan</td>\n",
              "      <td>nan</td>\n",
              "      <td>nan</td>\n",
              "      <td>nan</td>\n",
              "      <td>nan</td>\n",
              "      <td>nan</td>\n",
              "      <td>nan</td>\n",
              "      <td>nan</td>\n",
              "      <td>0</td>\n",
              "      <td>0.000000</td>\n",
              "      <td>0.000000</td>\n",
              "      <td>0.000000</td>\n",
              "      <td>0.000000</td>\n",
              "      <td>nan</td>\n",
              "      <td>nan</td>\n",
              "      <td>nan</td>\n",
              "      <td>nan</td>\n",
              "      <td>nan</td>\n",
              "      <td>nan</td>\n",
              "      <td>nan</td>\n",
              "      <td>nan</td>\n",
              "      <td>nan</td>\n",
              "      <td>nan</td>\n",
              "      <td>nan</td>\n",
              "      <td>nan</td>\n",
              "      <td>nan</td>\n",
              "      <td>nan</td>\n",
              "      <td>nan</td>\n",
              "      <td>nan</td>\n",
              "      <td>0</td>\n",
              "    </tr>\n",
              "    <tr>\n",
              "      <th>3</th>\n",
              "      <td>0.000000</td>\n",
              "      <td>0.000000</td>\n",
              "      <td>0.000000</td>\n",
              "      <td>0.000000</td>\n",
              "      <td>nan</td>\n",
              "      <td>nan</td>\n",
              "      <td>nan</td>\n",
              "      <td>nan</td>\n",
              "      <td>nan</td>\n",
              "      <td>nan</td>\n",
              "      <td>nan</td>\n",
              "      <td>nan</td>\n",
              "      <td>nan</td>\n",
              "      <td>nan</td>\n",
              "      <td>nan</td>\n",
              "      <td>nan</td>\n",
              "      <td>nan</td>\n",
              "      <td>nan</td>\n",
              "      <td>nan</td>\n",
              "      <td>nan</td>\n",
              "      <td>0</td>\n",
              "      <td>0.000000</td>\n",
              "      <td>0.000000</td>\n",
              "      <td>0.000000</td>\n",
              "      <td>0.000000</td>\n",
              "      <td>nan</td>\n",
              "      <td>nan</td>\n",
              "      <td>nan</td>\n",
              "      <td>nan</td>\n",
              "      <td>nan</td>\n",
              "      <td>nan</td>\n",
              "      <td>nan</td>\n",
              "      <td>nan</td>\n",
              "      <td>nan</td>\n",
              "      <td>nan</td>\n",
              "      <td>nan</td>\n",
              "      <td>nan</td>\n",
              "      <td>nan</td>\n",
              "      <td>nan</td>\n",
              "      <td>nan</td>\n",
              "      <td>...</td>\n",
              "      <td>0.000000</td>\n",
              "      <td>0.000000</td>\n",
              "      <td>nan</td>\n",
              "      <td>nan</td>\n",
              "      <td>nan</td>\n",
              "      <td>nan</td>\n",
              "      <td>nan</td>\n",
              "      <td>nan</td>\n",
              "      <td>nan</td>\n",
              "      <td>nan</td>\n",
              "      <td>nan</td>\n",
              "      <td>nan</td>\n",
              "      <td>nan</td>\n",
              "      <td>nan</td>\n",
              "      <td>nan</td>\n",
              "      <td>nan</td>\n",
              "      <td>nan</td>\n",
              "      <td>nan</td>\n",
              "      <td>0</td>\n",
              "      <td>0.000000</td>\n",
              "      <td>0.000000</td>\n",
              "      <td>0.000000</td>\n",
              "      <td>0.000000</td>\n",
              "      <td>nan</td>\n",
              "      <td>nan</td>\n",
              "      <td>nan</td>\n",
              "      <td>nan</td>\n",
              "      <td>nan</td>\n",
              "      <td>nan</td>\n",
              "      <td>nan</td>\n",
              "      <td>nan</td>\n",
              "      <td>nan</td>\n",
              "      <td>nan</td>\n",
              "      <td>nan</td>\n",
              "      <td>nan</td>\n",
              "      <td>nan</td>\n",
              "      <td>nan</td>\n",
              "      <td>nan</td>\n",
              "      <td>nan</td>\n",
              "      <td>0</td>\n",
              "    </tr>\n",
              "    <tr>\n",
              "      <th>4</th>\n",
              "      <td>0.000000</td>\n",
              "      <td>0.000000</td>\n",
              "      <td>0.000000</td>\n",
              "      <td>0.000000</td>\n",
              "      <td>nan</td>\n",
              "      <td>nan</td>\n",
              "      <td>nan</td>\n",
              "      <td>nan</td>\n",
              "      <td>nan</td>\n",
              "      <td>nan</td>\n",
              "      <td>nan</td>\n",
              "      <td>nan</td>\n",
              "      <td>nan</td>\n",
              "      <td>nan</td>\n",
              "      <td>nan</td>\n",
              "      <td>nan</td>\n",
              "      <td>nan</td>\n",
              "      <td>nan</td>\n",
              "      <td>nan</td>\n",
              "      <td>nan</td>\n",
              "      <td>0</td>\n",
              "      <td>0.000000</td>\n",
              "      <td>0.000000</td>\n",
              "      <td>0.000000</td>\n",
              "      <td>0.000000</td>\n",
              "      <td>nan</td>\n",
              "      <td>nan</td>\n",
              "      <td>nan</td>\n",
              "      <td>nan</td>\n",
              "      <td>nan</td>\n",
              "      <td>nan</td>\n",
              "      <td>nan</td>\n",
              "      <td>nan</td>\n",
              "      <td>nan</td>\n",
              "      <td>nan</td>\n",
              "      <td>nan</td>\n",
              "      <td>nan</td>\n",
              "      <td>nan</td>\n",
              "      <td>nan</td>\n",
              "      <td>nan</td>\n",
              "      <td>...</td>\n",
              "      <td>0.000000</td>\n",
              "      <td>0.000000</td>\n",
              "      <td>nan</td>\n",
              "      <td>nan</td>\n",
              "      <td>nan</td>\n",
              "      <td>nan</td>\n",
              "      <td>nan</td>\n",
              "      <td>nan</td>\n",
              "      <td>nan</td>\n",
              "      <td>nan</td>\n",
              "      <td>nan</td>\n",
              "      <td>nan</td>\n",
              "      <td>nan</td>\n",
              "      <td>nan</td>\n",
              "      <td>nan</td>\n",
              "      <td>nan</td>\n",
              "      <td>nan</td>\n",
              "      <td>nan</td>\n",
              "      <td>0</td>\n",
              "      <td>0.000000</td>\n",
              "      <td>0.000000</td>\n",
              "      <td>0.000000</td>\n",
              "      <td>0.000000</td>\n",
              "      <td>nan</td>\n",
              "      <td>nan</td>\n",
              "      <td>nan</td>\n",
              "      <td>nan</td>\n",
              "      <td>nan</td>\n",
              "      <td>nan</td>\n",
              "      <td>nan</td>\n",
              "      <td>nan</td>\n",
              "      <td>nan</td>\n",
              "      <td>nan</td>\n",
              "      <td>nan</td>\n",
              "      <td>nan</td>\n",
              "      <td>nan</td>\n",
              "      <td>nan</td>\n",
              "      <td>nan</td>\n",
              "      <td>nan</td>\n",
              "      <td>0</td>\n",
              "    </tr>\n",
              "    <tr>\n",
              "      <th>5</th>\n",
              "      <td>0.000000</td>\n",
              "      <td>0.000000</td>\n",
              "      <td>0.000000</td>\n",
              "      <td>0.000000</td>\n",
              "      <td>nan</td>\n",
              "      <td>nan</td>\n",
              "      <td>nan</td>\n",
              "      <td>nan</td>\n",
              "      <td>nan</td>\n",
              "      <td>nan</td>\n",
              "      <td>nan</td>\n",
              "      <td>nan</td>\n",
              "      <td>nan</td>\n",
              "      <td>nan</td>\n",
              "      <td>nan</td>\n",
              "      <td>nan</td>\n",
              "      <td>nan</td>\n",
              "      <td>nan</td>\n",
              "      <td>nan</td>\n",
              "      <td>nan</td>\n",
              "      <td>0</td>\n",
              "      <td>0.000000</td>\n",
              "      <td>0.000000</td>\n",
              "      <td>0.000000</td>\n",
              "      <td>0.000000</td>\n",
              "      <td>nan</td>\n",
              "      <td>nan</td>\n",
              "      <td>nan</td>\n",
              "      <td>nan</td>\n",
              "      <td>nan</td>\n",
              "      <td>nan</td>\n",
              "      <td>nan</td>\n",
              "      <td>nan</td>\n",
              "      <td>nan</td>\n",
              "      <td>nan</td>\n",
              "      <td>nan</td>\n",
              "      <td>nan</td>\n",
              "      <td>nan</td>\n",
              "      <td>nan</td>\n",
              "      <td>nan</td>\n",
              "      <td>...</td>\n",
              "      <td>0.000000</td>\n",
              "      <td>0.000000</td>\n",
              "      <td>nan</td>\n",
              "      <td>nan</td>\n",
              "      <td>nan</td>\n",
              "      <td>nan</td>\n",
              "      <td>nan</td>\n",
              "      <td>nan</td>\n",
              "      <td>nan</td>\n",
              "      <td>nan</td>\n",
              "      <td>nan</td>\n",
              "      <td>nan</td>\n",
              "      <td>nan</td>\n",
              "      <td>nan</td>\n",
              "      <td>nan</td>\n",
              "      <td>nan</td>\n",
              "      <td>nan</td>\n",
              "      <td>nan</td>\n",
              "      <td>0</td>\n",
              "      <td>0.000000</td>\n",
              "      <td>0.000000</td>\n",
              "      <td>0.000000</td>\n",
              "      <td>0.000000</td>\n",
              "      <td>nan</td>\n",
              "      <td>nan</td>\n",
              "      <td>nan</td>\n",
              "      <td>nan</td>\n",
              "      <td>nan</td>\n",
              "      <td>nan</td>\n",
              "      <td>nan</td>\n",
              "      <td>nan</td>\n",
              "      <td>nan</td>\n",
              "      <td>nan</td>\n",
              "      <td>nan</td>\n",
              "      <td>nan</td>\n",
              "      <td>nan</td>\n",
              "      <td>nan</td>\n",
              "      <td>nan</td>\n",
              "      <td>nan</td>\n",
              "      <td>0</td>\n",
              "    </tr>\n",
              "  </tbody>\n",
              "</table>\n",
              "<p>5 rows × 168 columns</p>\n",
              "</div>"
            ],
            "text/plain": [
              "             SUM(transactions.quantity)  ...  is_super\n",
              "customer_id                              ...          \n",
              "1                             25.000000  ...         0\n",
              "2                              0.000000  ...         0\n",
              "3                              0.000000  ...         0\n",
              "4                              0.000000  ...         0\n",
              "5                              0.000000  ...         0\n",
              "\n",
              "[5 rows x 168 columns]"
            ]
          },
          "metadata": {
            "tags": []
          },
          "execution_count": 33
        }
      ]
    },
    {
      "cell_type": "code",
      "metadata": {
        "id": "V6BhhXZDORiZ",
        "colab_type": "code",
        "colab": {}
      },
      "source": [
        "all_features.to_csv('generated_data.csv')"
      ],
      "execution_count": 34,
      "outputs": []
    }
  ]
}